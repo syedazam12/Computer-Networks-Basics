{
 "cells": [
  {
   "cell_type": "code",
   "execution_count": 7,
   "metadata": {},
   "outputs": [
    {
     "name": "stdout",
     "output_type": "stream",
     "text": [
      "Hello World\n",
      "1\n",
      "3\n",
      "5\n",
      "7\n",
      "9\n"
     ]
    }
   ],
   "source": [
    "print('Hello World')\n",
    "\n",
    "\n",
    "array = [1, 3, 5, 7, 9]\n",
    "\n",
    "for i in array:\n",
    "    print(i)"
   ]
  },
  {
   "cell_type": "code",
   "execution_count": 8,
   "metadata": {},
   "outputs": [
    {
     "name": "stdout",
     "output_type": "stream",
     "text": [
      "Hostname: DESKTOP-P23U6T4\n",
      "IP: 192.168.100.5\n"
     ]
    }
   ],
   "source": [
    "import socket\n",
    "\n",
    "hostname = socket.gethostname()\n",
    "\n",
    "ip = socket.gethostbyname(hostname)\n",
    "\n",
    "print(f\"Hostname: {hostname}\")\n",
    "print(f\"IP: {ip}\")\n"
   ]
  },
  {
   "cell_type": "code",
   "execution_count": 9,
   "metadata": {},
   "outputs": [
    {
     "name": "stdout",
     "output_type": "stream",
     "text": [
      "IP: 172.217.169.228\n"
     ]
    }
   ],
   "source": [
    "ip = socket.gethostbyname('www.google.com')\n",
    "print(f\"IP: {ip}\")"
   ]
  },
  {
   "cell_type": "code",
   "execution_count": 10,
   "metadata": {},
   "outputs": [
    {
     "name": "stdout",
     "output_type": "stream",
     "text": [
      "IP: ('dns.google', [], ['8.8.8.8'])\n"
     ]
    }
   ],
   "source": [
    "hostname = socket.gethostbyaddr('8.8.8.8')\n",
    "print(f\"IP: {hostname}\")"
   ]
  },
  {
   "cell_type": "code",
   "execution_count": 12,
   "metadata": {},
   "outputs": [
    {
     "name": "stdout",
     "output_type": "stream",
     "text": [
      "Port: 80 => service name: http\n",
      "Port: 25 => service name: smtp\n",
      "Port: 53 => service name: domain\n"
     ]
    }
   ],
   "source": [
    "import socket\n",
    "\n",
    "def findServiceName():\n",
    "    protocol_name = 'tcp'\n",
    "\n",
    "    for port in [80, 25]:\n",
    "        print(\"Port: %s => service name: %s\" %(port, socket.getservbyport(port, protocol_name)))\n",
    "\n",
    "    print(\"Port: %s => service name: %s\" %(53, socket.getservbyport(53, 'udp')))\n",
    "\n",
    "if __name__ == '__main__':\n",
    "    findServiceName()"
   ]
  },
  {
   "cell_type": "code",
   "execution_count": 13,
   "metadata": {},
   "outputs": [
    {
     "name": "stdout",
     "output_type": "stream",
     "text": [
      "Starting scan on host:  127.0.0.1\n",
      "Port 135: OPEN\n",
      "Port 445: OPEN\n",
      "Time taken:  921.4147183895111\n"
     ]
    }
   ],
   "source": [
    "from socket import *\n",
    "import time\n",
    "start_time = time.time()\n",
    "\n",
    "if __name__ == '__main__':\n",
    "    target = input('Enter the host to be scanned: ')\n",
    "\n",
    "    t_IP = gethostbyname(target)\n",
    "\n",
    "    print('Starting scan on host: ', t_IP)\n",
    "\n",
    "    for i in range(50, 500):\n",
    "        s = socket(AF_INET, SOCK_STREAM)\n",
    "\n",
    "        conn = s.connect_ex((t_IP, i))\n",
    "\n",
    "        if(conn == 0):\n",
    "            print('Port %d: OPEN' % (i,))\n",
    "        s.close()\n",
    "print('Time taken: ', time.time() - start_time)"
   ]
  },
  {
   "cell_type": "code",
   "execution_count": 2,
   "metadata": {},
   "outputs": [
    {
     "name": "stdout",
     "output_type": "stream",
     "text": [
      "Socket created\n",
      "Waiting for connection\n",
      "Got connection from  ('127.0.0.1', 1735)\n"
     ]
    }
   ],
   "source": [
    "import socket\n",
    "\n",
    "s = socket.socket()\n",
    "print('Socket created')\n",
    "\n",
    "s.bind(('localhost', 8888))\n",
    "\n",
    "s.listen(5)\n",
    "print('Waiting for connection')\n",
    "\n",
    "while True:\n",
    "    c, addr = s.accept()\n",
    "    print('Got connection from ', addr)\n",
    "\n",
    "    c.send( bytes('Thank you for connecting', 'utf-8') )\n",
    "    \n",
    "    c.close()"
   ]
  },
  {
   "cell_type": "code",
   "execution_count": 1,
   "metadata": {},
   "outputs": [
    {
     "name": "stdout",
     "output_type": "stream",
     "text": [
      "Server started at localhost:9999\n",
      "Received from 127.0.0.1:56262 - Khawaja Faraz\n",
      "Received from 127.0.0.1:56262 - k200121 - 6A\n",
      "Received from 127.0.0.1:56262 - CN LAB 2\n"
     ]
    }
   ],
   "source": [
    "import socket\n",
    "\n",
    "def start_server():\n",
    "    s = socket.socket(socket.AF_INET, socket.SOCK_DGRAM)\n",
    "    host = 'localhost'\n",
    "    port = 9999\n",
    "   \n",
    "    s.bind((host, port))\n",
    "   \n",
    "    print(f'Server started at {host}:{port}')\n",
    "   \n",
    "    while True:\n",
    "        data, addr = s.recvfrom(1024)\n",
    "        data = data.decode()\n",
    "        if not data:\n",
    "            break\n",
    "        print(f'Received from {addr[0]}:{addr[1]} - {data}')\n",
    "        data = input('Enter message to send: ')\n",
    "        s.sendto(data.encode(), addr)\n",
    "   \n",
    "    s.close()\n",
    "\n",
    "if __name__ == '__main__':\n",
    "    start_server()\n"
   ]
  },
  {
   "cell_type": "code",
   "execution_count": 1,
   "metadata": {},
   "outputs": [
    {
     "name": "stdout",
     "output_type": "stream",
     "text": [
      "Server started at localhost:9999\n",
      "Connected to 127.0.0.1:4523\n",
      "Received from 127.0.0.1:4523 - Hello World\n",
      "Received from 127.0.0.1:4523 - I am client. My name is Syed Azam.\n",
      "Received from 127.0.0.1:4523 - Yes?\n",
      "Received from 127.0.0.1:4523 - It is 20K-0255.\n"
     ]
    },
    {
     "ename": "ConnectionResetError",
     "evalue": "[WinError 10054] An existing connection was forcibly closed by the remote host",
     "output_type": "error",
     "traceback": [
      "\u001b[1;31m---------------------------------------------------------------------------\u001b[0m",
      "\u001b[1;31mConnectionResetError\u001b[0m                      Traceback (most recent call last)",
      "Cell \u001b[1;32mIn[1], line 26\u001b[0m\n\u001b[0;32m     23\u001b[0m     c\u001b[39m.\u001b[39mclose()\n\u001b[0;32m     25\u001b[0m \u001b[39mif\u001b[39;00m \u001b[39m__name__\u001b[39m \u001b[39m==\u001b[39m \u001b[39m'\u001b[39m\u001b[39m__main__\u001b[39m\u001b[39m'\u001b[39m:\n\u001b[1;32m---> 26\u001b[0m     start_server()\n",
      "Cell \u001b[1;32mIn[1], line 17\u001b[0m, in \u001b[0;36mstart_server\u001b[1;34m()\u001b[0m\n\u001b[0;32m     14\u001b[0m \u001b[39mprint\u001b[39m(\u001b[39mf\u001b[39m\u001b[39m'\u001b[39m\u001b[39mConnected to \u001b[39m\u001b[39m{\u001b[39;00maddr[\u001b[39m0\u001b[39m]\u001b[39m}\u001b[39;00m\u001b[39m:\u001b[39m\u001b[39m{\u001b[39;00maddr[\u001b[39m1\u001b[39m]\u001b[39m}\u001b[39;00m\u001b[39m'\u001b[39m)\n\u001b[0;32m     16\u001b[0m \u001b[39mwhile\u001b[39;00m \u001b[39mTrue\u001b[39;00m:\n\u001b[1;32m---> 17\u001b[0m     data \u001b[39m=\u001b[39m c\u001b[39m.\u001b[39;49mrecv(\u001b[39m1024\u001b[39;49m)\u001b[39m.\u001b[39mdecode()\n\u001b[0;32m     18\u001b[0m     \u001b[39mif\u001b[39;00m \u001b[39mnot\u001b[39;00m data:\n\u001b[0;32m     19\u001b[0m         \u001b[39mbreak\u001b[39;00m\n",
      "\u001b[1;31mConnectionResetError\u001b[0m: [WinError 10054] An existing connection was forcibly closed by the remote host"
     ]
    }
   ],
   "source": [
    "import socket\n",
    "\n",
    "def start_server():\n",
    "    s = socket.socket()\n",
    "    host = 'localhost'\n",
    "    port = 9999\n",
    "   \n",
    "    s.bind((host, port))\n",
    "    s.listen(1)\n",
    "   \n",
    "    print(f'Server started at {host}:{port}')\n",
    "   \n",
    "    c, addr = s.accept()\n",
    "    print(f'Connected to {addr[0]}:{addr[1]}')\n",
    "   \n",
    "    while True:\n",
    "        data = c.recv(1024).decode()\n",
    "        if not data:\n",
    "            break\n",
    "        print(f'Received from {addr[0]}:{addr[1]} - {data}')\n",
    "        data = input('Enter message to send: ')\n",
    "        c.send(data.encode())\n",
    "    c.close()\n",
    "\n",
    "if __name__ == '__main__':\n",
    "    start_server()"
   ]
  }
 ],
 "metadata": {
  "kernelspec": {
   "display_name": "Python 3",
   "language": "python",
   "name": "python3"
  },
  "language_info": {
   "codemirror_mode": {
    "name": "ipython",
    "version": 3
   },
   "file_extension": ".py",
   "mimetype": "text/x-python",
   "name": "python",
   "nbconvert_exporter": "python",
   "pygments_lexer": "ipython3",
   "version": "3.10.9"
  },
  "orig_nbformat": 4,
  "vscode": {
   "interpreter": {
    "hash": "8ac59cab703c4ced70a766a904316c8e7c66448dc6c31da381a588b13a22a6ce"
   }
  }
 },
 "nbformat": 4,
 "nbformat_minor": 2
}
