{
 "cells": [
  {
   "cell_type": "code",
   "execution_count": 1,
   "metadata": {},
   "outputs": [
    {
     "name": "stdout",
     "output_type": "stream",
     "text": [
      "Thank you for connecting\n"
     ]
    }
   ],
   "source": [
    "import socket\n",
    "\n",
    "s = socket.socket()\n",
    "\n",
    "s.connect( ('localhost', 8888) )\n",
    "\n",
    "print(s.recv(1024).decode())\n",
    "\n",
    "s.close()"
   ]
  },
  {
   "cell_type": "code",
   "execution_count": 3,
   "metadata": {},
   "outputs": [
    {
     "name": "stdout",
     "output_type": "stream",
     "text": [
      "Connected to localhost:9999\n",
      "Received from server - Khawaja Faraz\n",
      "Received from server - k200121 - 6A\n",
      "Received from server - CN LAB 2\n"
     ]
    }
   ],
   "source": [
    "import socket\n",
    "\n",
    "def start_client():\n",
    "    s = socket.socket(socket.AF_INET, socket.SOCK_DGRAM)\n",
    "    host = 'localhost'\n",
    "    port = 9999\n",
    "   \n",
    "    print(f'Connected to {host}:{port}')\n",
    "   \n",
    "    while True:\n",
    "        data = input('Enter message to send: ')\n",
    "        if not data:\n",
    "            break\n",
    "        s.sendto(data.encode(), (host, port))\n",
    "        data, addr = s.recvfrom(1024)\n",
    "        data = data.decode()\n",
    "        print(f'Received from server - {data}')\n",
    "   \n",
    "    s.close()\n",
    "\n",
    "if __name__ == '__main__':\n",
    "    start_client()"
   ]
  },
  {
   "cell_type": "code",
   "execution_count": 2,
   "metadata": {},
   "outputs": [
    {
     "name": "stdout",
     "output_type": "stream",
     "text": [
      "Connected to localhost:9999\n",
      "Received from server - Hello Client\n",
      "Received from server - Dear Client, Azam\n",
      "Received from server - What is your university roll number?\n"
     ]
    }
   ],
   "source": [
    "import socket\n",
    "\n",
    "def start_client():\n",
    "    s = socket.socket()\n",
    "    host = 'localhost'\n",
    "    port = 9999\n",
    "   \n",
    "    s.connect((host, port))\n",
    "   \n",
    "    print(f'Connected to {host}:{port}')\n",
    "   \n",
    "    while True:\n",
    "        data = input('Enter message to send: ')\n",
    "        if not data:\n",
    "            break\n",
    "        s.send(data.encode())\n",
    "        data = s.recv(1024).decode()\n",
    "        print(f'Received from server - {data}')\n",
    "   \n",
    "    s.close()\n",
    "\n",
    "if __name__ == '__main__':\n",
    "    start_client()"
   ]
  }
 ],
 "metadata": {
  "kernelspec": {
   "display_name": "Python 3",
   "language": "python",
   "name": "python3"
  },
  "language_info": {
   "codemirror_mode": {
    "name": "ipython",
    "version": 3
   },
   "file_extension": ".py",
   "mimetype": "text/x-python",
   "name": "python",
   "nbconvert_exporter": "python",
   "pygments_lexer": "ipython3",
   "version": "3.10.9"
  },
  "orig_nbformat": 4,
  "vscode": {
   "interpreter": {
    "hash": "8ac59cab703c4ced70a766a904316c8e7c66448dc6c31da381a588b13a22a6ce"
   }
  }
 },
 "nbformat": 4,
 "nbformat_minor": 2
}
